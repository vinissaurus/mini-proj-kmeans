{
  "nbformat": 4,
  "nbformat_minor": 0,
  "metadata": {
    "colab": {
      "name": "OpenMP.ipynb",
      "provenance": [],
      "collapsed_sections": [],
      "authorship_tag": "ABX9TyPPc7KwWb1uNksjgU8Z+vJb",
      "include_colab_link": true
    },
    "kernelspec": {
      "name": "python3",
      "display_name": "Python 3"
    },
    "language_info": {
      "name": "python"
    }
  },
  "cells": [
    {
      "cell_type": "markdown",
      "metadata": {
        "id": "view-in-github",
        "colab_type": "text"
      },
      "source": [
        "<a href=\"https://colab.research.google.com/github/vinissaurus/mini-proj-kmeans/blob/main/OpenMP.ipynb\" target=\"_parent\"><img src=\"https://colab.research.google.com/assets/colab-badge.svg\" alt=\"Open In Colab\"/></a>"
      ]
    },
    {
      "cell_type": "markdown",
      "source": [
        "# <b>Fórum avaliativo de Processamento Paralelo e Distribuído</b>\n",
        "**Objetivo:**<br>\n",
        "Demonstrar o uso de paralelismo para a multiplicação de matrizes<br>\n",
        "\n",
        "**Grupo**: Átila Madureira, Gabriel Lemos, Letycia Milene, Vinícius Guimarães"
      ],
      "metadata": {
        "id": "EiZLLhq9Mf2y"
      }
    },
    {
      "cell_type": "code",
      "execution_count": null,
      "metadata": {
        "colab": {
          "base_uri": "https://localhost:8080/"
        },
        "id": "7UojqZ_yVDZg",
        "outputId": "b9750fc2-5a53-4165-ed32-1016004f078c"
      },
      "outputs": [
        {
          "output_type": "stream",
          "name": "stdout",
          "text": [
            "Collecting mpi4py\n",
            "  Downloading mpi4py-3.1.3.tar.gz (2.5 MB)\n",
            "\u001b[K     |████████████████████████████████| 2.5 MB 5.2 MB/s \n",
            "\u001b[?25h  Installing build dependencies ... \u001b[?25l\u001b[?25hdone\n",
            "  Getting requirements to build wheel ... \u001b[?25l\u001b[?25hdone\n",
            "    Preparing wheel metadata ... \u001b[?25l\u001b[?25hdone\n",
            "Building wheels for collected packages: mpi4py\n",
            "  Building wheel for mpi4py (PEP 517) ... \u001b[?25l\u001b[?25hdone\n",
            "  Created wheel for mpi4py: filename=mpi4py-3.1.3-cp37-cp37m-linux_x86_64.whl size=2185238 sha256=c101f6c450ac9d821d90ff1c6086450bc20e0625bee258511caa29528baa1245\n",
            "  Stored in directory: /root/.cache/pip/wheels/7a/07/14/6a0c63fa2c6e473c6edc40985b7d89f05c61ff25ee7f0ad9ac\n",
            "Successfully built mpi4py\n",
            "Installing collected packages: mpi4py\n",
            "Successfully installed mpi4py-3.1.3\n"
          ]
        }
      ],
      "source": [
        "#inicialmente instalar a dependência necessária para essa tarefa\n",
        "!pip install mpi4py"
      ]
    },
    {
      "cell_type": "code",
      "source": [
        "import numpy as np"
      ],
      "metadata": {
        "id": "mrL2YWvIPPUB"
      },
      "execution_count": null,
      "outputs": []
    },
    {
      "cell_type": "markdown",
      "source": [
        "Aqui geramos 10 matrizes de 512x512 valores aleatórios entre **0** e **1024**, e posteriormente a função de multiplicação é definida. A multiplicação de matrizes na biblioteca Numpy é extremamente rápida."
      ],
      "metadata": {
        "id": "RUi-zrKI_r38"
      }
    },
    {
      "cell_type": "code",
      "source": [
        "#geração de matrizes aleatórias\n",
        "matrix_n = 512\n",
        "\n",
        "#valores máximo para geração de números aleatórios\n",
        "rand_min = 0\n",
        "rand_max = 1024 \n",
        "\n",
        "arr1 = np.random.randint(rand_min,rand_max, size=(matrix_n,matrix_n))\n",
        "arr2 = np.random.randint(rand_min,rand_max, size=(matrix_n,matrix_n))\n",
        "arr3 = np.random.randint(rand_min,rand_max, size=(matrix_n,matrix_n))\n",
        "arr4 = np.random.randint(rand_min,rand_max, size=(matrix_n,matrix_n))\n",
        "arr5 = np.random.randint(rand_min,rand_max, size=(matrix_n,matrix_n))\n",
        "arr6 = np.random.randint(rand_min,rand_max, size=(matrix_n,matrix_n))\n",
        "arr7 = np.random.randint(rand_min,rand_max, size=(matrix_n,matrix_n))\n",
        "arr8 = np.random.randint(rand_min,rand_max, size=(matrix_n,matrix_n))\n",
        "arr9 = np.random.randint(rand_min,rand_max, size=(matrix_n,matrix_n))\n",
        "arr10 = np.random.randint(rand_min,rand_max, size=(matrix_n,matrix_n))\n",
        "\n",
        "#listas dos objetos a serem multiplicados\n",
        "matrix_set_1 = [arr1,arr2,arr3,arr4,arr5]\n",
        "matrix_set_2 = [arr6,arr7,arr8,arr9,arr10]"
      ],
      "metadata": {
        "id": "cRkL_GunYhdt"
      },
      "execution_count": null,
      "outputs": []
    },
    {
      "cell_type": "code",
      "source": [
        "import time\n",
        "\n",
        "def multiply(a, b):\n",
        "  return a@b"
      ],
      "metadata": {
        "id": "z8YiiuY9lle3"
      },
      "execution_count": null,
      "outputs": []
    },
    {
      "cell_type": "markdown",
      "source": [
        "Por fim, o cálculo de matrizes é feito paralelamente e depois em sequência, e os tempos são medidos."
      ],
      "metadata": {
        "id": "tTmFG_ryAUuC"
      }
    },
    {
      "cell_type": "code",
      "source": [
        "from mpi4py import MPI\n",
        "from mpi4py.futures import MPICommExecutor\n",
        "\n",
        "start = time.perf_counter()\n",
        "with MPICommExecutor(MPI.COMM_WORLD, root=0) as executor:\n",
        "    if executor is not None:\n",
        "      future = executor.map(multiply, matrix_set_1, matrix_set_2)\n",
        "    #print(future.result())   \n",
        "\n",
        "finish = time.perf_counter()\n",
        "print(f'Calculo por paralelismo finalizado em {finish-start} segundo(s)')\n",
        "\n",
        "start = time.perf_counter()\n",
        "for i in range(5):\n",
        "  results = multiply(matrix_set_1[i], matrix_set_2[i])\n",
        "\n",
        "finish = time.perf_counter()\n",
        "\n",
        "print(f'Calculo por sequencia finalizado em {finish-start} segundo(s)')\n"
      ],
      "metadata": {
        "colab": {
          "base_uri": "https://localhost:8080/"
        },
        "id": "G1s3NYYYWOXX",
        "outputId": "1646031e-b884-40ca-895c-21ea72a2b941"
      },
      "execution_count": null,
      "outputs": [
        {
          "output_type": "stream",
          "name": "stdout",
          "text": [
            "Calculo por paralelismo finalizado em 2.611280250999698 segundo(s)\n",
            "Calculo por sequencia finalizado em 2.524389105999944 segundo(s)\n"
          ]
        }
      ]
    }
  ]
}