{
 "cells": [
  {
   "cell_type": "code",
   "execution_count": 113,
   "id": "f8a6c305",
   "metadata": {},
   "outputs": [
    {
     "data": {
      "text/plain": [
       "0.9333333333333333"
      ]
     },
     "execution_count": 113,
     "metadata": {},
     "output_type": "execute_result"
    }
   ],
   "source": [
    "from sklearn.datasets import load_breast_cancer\n",
    "from sklearn.naive_bayes import GaussianNB\n",
    "from sklearn.metrics import accuracy_score\n",
    "from sklearn.model_selection import train_test_split\n",
    "import pandas as pa\n",
    "from sklearn.svm import SVC\n",
    "from sklearn.model_selection import GridSearchCV\n",
    "\n",
    "\n",
    "df = load_breast_cancer()\n",
    "X=df.data\n",
    "y=df.target\n",
    "names = df.feature_names\n",
    "target = df.target_names\n",
    "\n",
    "X_treino, X_teste, y_treino, y_teste = train_test_split(X, y,test_size=0.5,random_state=1)\n",
    "\n",
    "model = GaussianNB(var_smoothing=1e-9)\n",
    "model.fit(X_teste, y_teste)\n",
    "\n",
    "y_prevs = model.predict(X_teste)\n",
    "\n",
    "accuracy_score(y_teste,y_prevs)"
   ]
  },
  {
   "cell_type": "code",
   "execution_count": 115,
   "id": "8a69798c",
   "metadata": {
    "scrolled": false
   },
   "outputs": [
    {
     "data": {
      "text/plain": [
       "GridSearchCV(cv=10, estimator=GaussianNB(),\n",
       "             param_grid={'var_smoothing': [1e-08, 1e-09, 1e-10, 1e-11]},\n",
       "             return_train_score=True, scoring='accuracy')"
      ]
     },
     "execution_count": 115,
     "metadata": {},
     "output_type": "execute_result"
    }
   ],
   "source": [
    "k_range = [ 1e-8, 1e-9, 1e-10, 1e-11]\n",
    "    \n",
    "\n",
    "param_grid = dict(var_smoothing=k_range)\n",
    "grid = GridSearchCV(model, param_grid, cv=10, scoring='accuracy', return_train_score=True)\n",
    "grid.fit(X_treino, y_treino)"
   ]
  },
  {
   "cell_type": "code",
   "execution_count": 116,
   "id": "94532bf1",
   "metadata": {},
   "outputs": [
    {
     "data": {
      "text/plain": [
       "0.9576354679802954"
      ]
     },
     "execution_count": 116,
     "metadata": {},
     "output_type": "execute_result"
    }
   ],
   "source": [
    "grid.best_score_"
   ]
  },
  {
   "cell_type": "code",
   "execution_count": 117,
   "id": "cda7bec4",
   "metadata": {},
   "outputs": [
    {
     "data": {
      "text/plain": [
       "{'var_smoothing': 1e-11}"
      ]
     },
     "execution_count": 117,
     "metadata": {},
     "output_type": "execute_result"
    }
   ],
   "source": [
    "grid.best_params_"
   ]
  },
  {
   "cell_type": "code",
   "execution_count": null,
   "id": "fceb2cf5",
   "metadata": {},
   "outputs": [],
   "source": []
  }
 ],
 "metadata": {
  "kernelspec": {
   "display_name": "Python 3",
   "language": "python",
   "name": "python3"
  },
  "language_info": {
   "codemirror_mode": {
    "name": "ipython",
    "version": 3
   },
   "file_extension": ".py",
   "mimetype": "text/x-python",
   "name": "python",
   "nbconvert_exporter": "python",
   "pygments_lexer": "ipython3",
   "version": "3.8.8"
  }
 },
 "nbformat": 4,
 "nbformat_minor": 5
}
