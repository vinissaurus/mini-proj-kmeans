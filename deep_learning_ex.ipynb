{
 "cells": [
  {
   "cell_type": "code",
   "execution_count": 8,
   "id": "513c5182",
   "metadata": {},
   "outputs": [],
   "source": [
    "#!/usr/bin/env python3\n",
    "# -*- coding: utf-8 -*-\n",
    "# importação das bibliotecas\n",
    "import pandas as pd\n",
    "# from keras.models import Sequential\n",
    "# from keras.layers import Dense\n",
    "base = pd.read_csv('datasets/autos.csv', encoding=\"ISO-8859-1\")\n",
    "# remoção de atributos que não irão ajudar na previsão do preço\n",
    "lista_atributos =['dateCrawled','seller','offerType','nrOfPictures','postalCode','lastSeen','dateCreated','name']\n"
   ]
  },
  {
   "cell_type": "code",
   "execution_count": 10,
   "id": "61093874",
   "metadata": {},
   "outputs": [],
   "source": [
    "# remoção de alguns atributos da base\n",
    "base = base.drop(base[lista_atributos], axis=1)"
   ]
  },
  {
   "cell_type": "code",
   "execution_count": 12,
   "id": "5b70cb96",
   "metadata": {},
   "outputs": [
    {
     "data": {
      "text/plain": [
       "benzin     215366\n",
       "diesel     104462\n",
       "lpg          5216\n",
       "cng           557\n",
       "hybrid        258\n",
       "andere        162\n",
       "elektro        91\n",
       "Name: fuelType, dtype: int64"
      ]
     },
     "execution_count": 12,
     "metadata": {},
     "output_type": "execute_result"
    }
   ],
   "source": [
    "# alguns filtros realizados na base\n",
    "i1= base.loc[base.price <= 10]\n",
    "base = base[base.price > 10]\n",
    "i2 = base.loc[base.price > 35000]\n",
    "base = base.loc[base.price < 35000]\n",
    "# valores faltosos: vamos completar os valores faltosos com os\n",
    "# valores que contêm maior número de registros por atributo\n",
    "# exemplo:\n",
    "base.loc[pd.isnull(base.vehicleType)] # verifica se existem valores nulos\n",
    "base.vehicleType.value_counts() # resposta é limousine\n",
    "base.loc[pd.isnull(base.gearbox)]\n",
    "base.gearbox.value_counts() \n",
    "base.loc[pd.isnull(base.model)]\n",
    "base['model'].value_counts()\n",
    "base.loc[pd.isnull(base['fuelType'])]\n",
    "base['fuelType'].value_counts()"
   ]
  },
  {
   "cell_type": "code",
   "execution_count": 15,
   "id": "906c9671",
   "metadata": {},
   "outputs": [],
   "source": [
    "# dicionário para substituição dos valores nulos pelos valores que apresentam\n",
    "# o maior número de registro para os atributos: vehicleType, gearbox, fuelType, model e notRepairedDamage\n",
    "valores = {'vehicleType' : 'limousine',\n",
    " 'gearbox':'auto',\n",
    " 'fuelType' : 'Diesel',\n",
    " 'model': 'Lincoln',\n",
    " 'notRepairedDamage': 'yes'}\n",
    "# preenchimento\n",
    "base = base.fillna(value = valores)\n",
    "# CRIAÇÃO DO MODELO ABAIXO\n",
    "# previsores = base.iloc[:, 1:13].values\n",
    "# preco_real = base.iloc[:, 0].values\n",
    "# from sklearn.preprocessing import LabelEncoder, OneHotEncoder\n",
    "# # transformar os atributos categóricos em atributos numéricos\n",
    "# # label encoder -> transformar dados categóricos em dados numéricos\n",
    "# for i in range(0, previsores.shape[1]):\n",
    "# if i not in [2,4,6,7]:\n",
    "# previsores[:, i] = LabelEncoder().fit_transform(previsores[:, i])\n",
    "# # one hot encoder - fazer dummy para cada categoria\n",
    "# onehot = OneHotEncoder(categorical_features = [0,1,3,5,8,9,10])\n",
    "# previsores = onehot.fit_transform(previsores).toarray()\n",
    "# # rede neural - regressão\n",
    "# regressor = Sequential()\n",
    "# regressor.add(Dense(units = 158, activation='relu', input_dim=315)) # (315 + 1)/2 número de neurônios camada oculta\n",
    "# regressor.add(Dense(units = 158, activation='relu'))\n",
    "# regressor.add(Dense(units=1, activation='linear')) # linear porque queremos um valornumérico.\n",
    "# regressor.compile(optimizer='adam', loss='mean_absolute_error',metrics=['mean_absolute_error'])\n",
    "# regressor.fit(previsores, preco_real, batch_size=300, epochs=500) # só faz atualização dos preços a cada 300 registros\n",
    "# previsoes = regressor.predict(previsores)\n",
    "# preco_real.mean()\n",
    "# previsoes.mean()"
   ]
  },
  {
   "cell_type": "code",
   "execution_count": null,
   "id": "d9918a94",
   "metadata": {},
   "outputs": [],
   "source": []
  }
 ],
 "metadata": {
  "kernelspec": {
   "display_name": "Python 3",
   "language": "python",
   "name": "python3"
  },
  "language_info": {
   "codemirror_mode": {
    "name": "ipython",
    "version": 3
   },
   "file_extension": ".py",
   "mimetype": "text/x-python",
   "name": "python",
   "nbconvert_exporter": "python",
   "pygments_lexer": "ipython3",
   "version": "3.8.8"
  }
 },
 "nbformat": 4,
 "nbformat_minor": 5
}
