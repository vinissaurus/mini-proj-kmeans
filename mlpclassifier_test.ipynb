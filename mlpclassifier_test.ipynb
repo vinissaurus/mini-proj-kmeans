{
 "cells": [
  {
   "cell_type": "code",
   "execution_count": null,
   "metadata": {},
   "outputs": [],
   "source": [
    "import pandas as pd\n",
    "dados = pd.read_csv(\"conjunto_dados.csv\")\n",
    "dados = dados[['nome_produto','custo_produto','preco_unitario',\n",
    "               'tempo_estocado','quantidade_estocada','endereco_cliente','documento_rg','documento_cpf']]\n",
    "\n",
    "dados.drop(['endereco_cliente','documento_rg','documento_cpf'],inplace=True)\n",
    "\n",
    "from sklearn.preprocessing import LabelEncoder\n",
    "le = LabelEncoder()\n",
    "dados['custo_produto'] = le.fit_transform(dados['custo_produto'])\n",
    "dados['tempo_estocado'] = le.fit_transform(dados['tempo_estocado'])\n",
    "dados['quantidade_estocada'] = le.fit_transform(dados['quantidade_estocada'])\n",
    "\n",
    "from sklearn.model _ selection import train_test_split\n",
    "conjunto_treinamento, conjunto_teste = train_test_split(dados, test _ size = 0.2, random _ state = 21)\n",
    "\n",
    "x_treinamento = conjunto_treinamento.iloc[:,0:-1].values\n",
    "y_treinamento = conjunto_treinamento.iloc[:,-1].values\n",
    "x_teste = conjunto_teste.iloc[:,0:-1].values\n",
    "y_teste = conjunto_teste.iloc[:,-1].values\n",
    "\n",
    "from sklearn.neural_network import MLPClassifier\n",
    "classificador = MLPClassifier(hidden_layer_sizes=(150,100,50),\n",
    "max_iter=300,activation = 'relu',solver='adam',random_state=1)\n",
    "classificador.fit(X_treinamento, y_treinamento)\n",
    "y_predicao = classificador.predict(x_teste)\n",
    "\n",
    "from sklearn.model_selection import cross_val_score\n",
    "clf = svm.SVC(kernel='linear', C=1, random_state=42)\n",
    "scores = cross_val_score(clf, X_teste, y,_teste cv=5)"
   ]
  }
 ],
 "metadata": {
  "kernelspec": {
   "display_name": "Python 3",
   "language": "python",
   "name": "python3"
  },
  "language_info": {
   "codemirror_mode": {
    "name": "ipython",
    "version": 3
   },
   "file_extension": ".py",
   "mimetype": "text/x-python",
   "name": "python",
   "nbconvert_exporter": "python",
   "pygments_lexer": "ipython3",
   "version": "3.7.6"
  }
 },
 "nbformat": 4,
 "nbformat_minor": 4
}
